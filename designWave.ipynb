{
 "cells": [
  {
   "cell_type": "code",
   "execution_count": 1,
   "metadata": {},
   "outputs": [],
   "source": [
    "import numpy as np\n",
    "import matplotlib.pyplot as plt"
   ]
  },
  {
   "cell_type": "code",
   "execution_count": 2,
   "metadata": {},
   "outputs": [
    {
     "data": {
      "image/png": "[encoded data removed]",
      "text/plain": [
       "<Figure size 432x288 with 1 Axes>"
      ]
     },
     "metadata": {
      "needs_background": "light"
     },
     "output_type": "display_data"
    }
   ],
   "source": [
    "signallength = 2**19\n",
    "camera_freq = 150.594*15 * 10\n",
    "# als_freq = 102.7 * 10\n",
    "x = np.linspace(0, 1, signallength)\n",
    "signal = np.sin(2*np.pi*x*camera_freq)\n",
    "# signal += np.sin(2*np.pi*x*als_freq)\n",
    "# signal = signal / 2\n",
    "plt.plot(signal)\n",
    "plt.show()\n"
   ]
  },
  {
   "cell_type": "code",
   "execution_count": 3,
   "metadata": {},
   "outputs": [],
   "source": [
    "delta = []\n",
    "sigma = np.zeros(signallength)\n",
    "pdm = []\n",
    "out = -1.0\n",
    "sigmaout = 0.0\n",
    "for i in range(signallength):\n",
    "    delta.append(signal[i]-out)#全て0以上にしている\n",
    "    sigmaout+=delta[i]\n",
    "    if sigmaout>=0:\n",
    "        out=1\n",
    "    else:\n",
    "        out=-1\n",
    "    pdm.append(out)\n",
    "    sigma[i] = sigmaout"
   ]
  },
  {
   "cell_type": "code",
   "execution_count": 4,
   "metadata": {},
   "outputs": [
    {
     "data": {
      "image/png": "[encoded data removed]",
      "text/plain": [
       "<Figure size 432x288 with 1 Axes>"
      ]
     },
     "metadata": {
      "needs_background": "light"
     },
     "output_type": "display_data"
    }
   ],
   "source": [
    "pdm =np.array(pdm)\n",
    "fgsignal = 32767*pdm\n",
    "plt.plot(fgsignal)\n",
    "plt.show()"
   ]
  },
  {
   "cell_type": "code",
   "execution_count": 5,
   "metadata": {},
   "outputs": [],
   "source": [
    "np.savetxt('wave.txt',fgsignal,fmt='%.0f')"
   ]
  },
  {
   "cell_type": "code",
   "execution_count": null,
   "metadata": {},
   "outputs": [],
   "source": []
  }
 ],
 "metadata": {
  "interpreter": {
   "hash": "c2c4922abde0c917e62b07a12ef8dd3a434be11f635198159e73413909d63d06"
  },
  "kernelspec": {
   "display_name": "Python 3.9.7 64-bit",
   "name": "python3"
  },
  "language_info": {
   "codemirror_mode": {
    "name": "ipython",
    "version": 3
   },
   "file_extension": ".py",
   "mimetype": "text/x-python",
   "name": "python",
   "nbconvert_exporter": "python",
   "pygments_lexer": "ipython3",
   "version": "3.9.9"
  },
  "orig_nbformat": 4
 },
 "nbformat": 4,
 "nbformat_minor": 2
}
